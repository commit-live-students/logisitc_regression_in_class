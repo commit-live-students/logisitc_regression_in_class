{
 "cells": [
  {
   "cell_type": "markdown",
   "metadata": {
    "slideshow": {
     "slide_type": "slide"
    }
   },
   "source": [
    "<h1 align=\"center\"> Logistic Regression</h1>"
   ]
  },
  {
   "cell_type": "markdown",
   "metadata": {
    "slideshow": {
     "slide_type": "slide"
    }
   },
   "source": [
    "### Logistic Regression is traced back to about 2000 years! \n",
    "***\n",
    "<center><img src=../images/meme_jesus.jpg alt=\"Drawing\" style=\"width: 300px;\"/></center>"
   ]
  },
  {
   "cell_type": "markdown",
   "metadata": {
    "slideshow": {
     "slide_type": "slide"
    }
   },
   "source": [
    "## Program so far\n",
    "***\n",
    " - We learnt about different types of Machine Learning Problems\n",
    "\n",
    " - We learnt how to fit a linear model to our data to predict House Prices in New York\n",
    " \n",
    " - We learnt how to use \"Advanced Linear Regression\" techniques where we prevented overfitting by using\n",
    " \n",
    "      - **Lasso Regression: which performs the L1 Regularization technique**\n",
    "      \n",
    "      - **Ridge Regression: which performs the L2 Regularization technique**\n",
    "      "
   ]
  },
  {
   "cell_type": "markdown",
   "metadata": {
    "slideshow": {
     "slide_type": "slide"
    }
   },
   "source": [
    "## Agenda for the Day\n",
    "***"
   ]
  },
  {
   "cell_type": "markdown",
   "metadata": {
    "slideshow": {
     "slide_type": "slide"
    }
   },
   "source": [
    "## John's Dilemma\n",
    "***\n",
    "Finally, John had decided on a house to buy. This was the perfect house for him in Brooklyn\n",
    "\n",
    "But he was running lower than expected on his savings and thus, didn't have enough money to buy a new one\n",
    "\n",
    "**So, he thought of taking a loan.**\n",
    "\n"
   ]
  },
  {
   "cell_type": "markdown",
   "metadata": {
    "slideshow": {
     "slide_type": "subslide"
    }
   },
   "source": [
    "## John's Dilemma \n",
    "***\n",
    " - But taking a loan in New York City, at high interest rates, would be too expensive for him in the long run! \n",
    "\n",
    "- Besides, he wasn't sure whether he would get the required loan.\n",
    "\n",
    "- So, he started looking for current trends of the loan approval.\n",
    "\n",
    " - Luckily he stumbled upon a dataset which had details about the loan approval.\n",
    "Let's explore it, along with him."
   ]
  },
  {
   "cell_type": "markdown",
   "metadata": {
    "slideshow": {
     "slide_type": "slide"
    }
   },
   "source": [
    "<img src=\"../images/Concept-Alert.png\" alt=\"Concept-Alert\" style=\"width: 100px;float:left; margin-right:15px\"/>\n",
    "<br />\n",
    "## What type of Problem is this? \n",
    "***\n",
    " - Let's try and gain some intuition\n",
    " - The graph on the next slide depicts if a patient's Tumor is Malignant (Cancerous) or not **{1: Yes; 0: No}** \n",
    " based on the Tumor Size present in his/her body\n",
    " \n",
    " - Tumor Size is taken on the *x-axis* whereas the outcome, i.e., whether the patient's Tumor is Malginant or not is taken on the *Y-axis*"
   ]
  },
  {
   "cell_type": "code",
   "execution_count": 1,
   "metadata": {
    "collapsed": true,
    "slideshow": {
     "slide_type": "subslide"
    }
   },
   "outputs": [],
   "source": [
    "import numpy as np\n",
    "import matplotlib.pyplot as plt\n",
    "# import seaborn as sns\n",
    "import pandas as pd\n",
    "%matplotlib inline\n",
    "from sklearn.datasets import make_classification\n",
    "X, y = make_classification(n_samples=10, n_features=1, n_informative=1, n_redundant=0 , n_clusters_per_class=1, flip_y=0, random_state=7)"
   ]
  },
  {
   "cell_type": "code",
   "execution_count": 2,
   "metadata": {
    "slideshow": {
     "slide_type": "subslide"
    }
   },
   "outputs": [
    {
     "data": {
      "image/png": "[encoded data removed]",
      "text/plain": [
       "<matplotlib.figure.Figure at 0x116e22290>"
      ]
     },
     "metadata": {},
     "output_type": "display_data"
    }
   ],
   "source": [
    "plt.figure(figsize=(10,6))\n",
    "plt.scatter(X, y, c='r', marker='x')\n",
    "plt.ylabel(\"Malignant Tumor {1: Yes  0: No}\")\n",
    "plt.xlabel(\"Tumor Size\")\n",
    "plt.show()"
   ]
  },
  {
   "cell_type": "markdown",
   "metadata": {
    "slideshow": {
     "slide_type": "subslide"
    }
   },
   "source": [
    "<img src=\"../images/Concept-Alert.png\" alt=\"Concept-Alert\" style=\"width: 100px;float:left; margin-right:15px\"/>\n",
    "<br />\n",
    "## What type of Problem is this? \n",
    "***\n",
    " - The output, \"y\" has two **categories** i.e. 1 (Yes) or 0 (No) \n",
    " \n",
    " - Thus, as we have learnt before, this is a **Classification Problem** where we are using our dependent variables, in this case Tumor Size, and are getting a **binary** output, 1 (Yes) or 0 (No)! \n",
    " \n",
    " - Let's approach this problem with what we've learnt so far"
   ]
  },
  {
   "cell_type": "markdown",
   "metadata": {
    "slideshow": {
     "slide_type": "subslide"
    }
   },
   "source": [
    "## John's Problem Explained\n",
    "***\n",
    " - Through the data set John collected, he basically wanted to find out that using different characteristics, do loans get approved {1: Yes} or not {0: No}\n",
    " \n",
    " - This is, in essence, nothing but a classification problem. John collected a data set that described what type of loan requests got approved and rejected\n",
    " \n",
    " - He wanted to check, before applying, whether his request would be approved after he fit the **right model** on the data! \n",
    " \n",
    " - Let's build our intution on the '*model building*' part using the Tumor data! You will see how comprehensive this approach is"
   ]
  },
  {
   "cell_type": "markdown",
   "metadata": {
    "slideshow": {
     "slide_type": "subslide"
    }
   },
   "source": [
    "## Using Linear Regression to solve a classification problem\n",
    "***\n",
    "\n",
    "* Lets try and apply the same Linear Regression model we learned to solve the problem of classification on a dataset."
   ]
  },
  {
   "cell_type": "code",
   "execution_count": 3,
   "metadata": {
    "slideshow": {
     "slide_type": "subslide"
    }
   },
   "outputs": [
    {
     "data": {
      "text/plain": [
       "LinearRegression(copy_X=True, fit_intercept=True, n_jobs=1, normalize=False)"
      ]
     },
     "execution_count": 3,
     "metadata": {},
     "output_type": "execute_result"
    }
   ],
   "source": [
    "from sklearn.linear_model import LinearRegression\n",
    "lm = LinearRegression()\n",
    "lm.fit(X, y)"
   ]
  },
  {
   "cell_type": "code",
   "execution_count": 4,
   "metadata": {
    "collapsed": true,
    "slideshow": {
     "slide_type": "subslide"
    }
   },
   "outputs": [],
   "source": [
    "z = np.linspace(-2, 2, 1000)\n",
    "z_predict = lm.intercept_ + (lm.coef_ * z)"
   ]
  },
  {
   "cell_type": "code",
   "execution_count": 5,
   "metadata": {
    "scrolled": false,
    "slideshow": {
     "slide_type": "subslide"
    }
   },
   "outputs": [
    {
     "data": {
      "image/png": "[encoded data removed]",
      "text/plain": [
       "<matplotlib.figure.Figure at 0x11a8b8790>"
      ]
     },
     "metadata": {},
     "output_type": "display_data"
    }
   ],
   "source": [
    "plt.figure(figsize=(10,6))\n",
    "plt.scatter(X, y, c='r', marker='x')\n",
    "plt.plot(z, z_predict)\n",
    "plt.ylabel(\"Presence of Cancer {1: Yes  0: No}\")\n",
    "plt.xlabel(\"Tumor Size\")\n",
    "plt.show()"
   ]
  },
  {
   "cell_type": "markdown",
   "metadata": {
    "slideshow": {
     "slide_type": "subslide"
    }
   },
   "source": [
    "## So what now? Intuition behind the Decision Boundary\n",
    "***\n",
    "* We have fitted a linear regression model which is represented by the blue line\n",
    "* How do we convert a continuous output into a discrete one?\n",
    "* One way we can do is using a threshold value for the linear regression output\n",
    "\n",
    "\n",
    "* Our output is either 1 or 0, and since we can even get predicted values between 0 and 1 like 0.2, 0.6, etc. (The regression line), we need to come up with a method where our output (0.2, 0.6, etc) is **transformed** to either **0** or **1**\n",
    "\n",
    "\n",
    "* A reasonable threshold to keep for a 0-1 problem is 0.5. So, if our predicted value (y) is **greater than 0.5** then we assign a **\"1\"** to it \n",
    "* If y is **less than 0.5** then we assign a **\"0\"** to it\n"
   ]
  },
  {
   "cell_type": "markdown",
   "metadata": {
    "slideshow": {
     "slide_type": "slide"
    }
   },
   "source": [
    "## Decision Boundary\n",
    "***\n",
    "\n",
    "* Tracing the line of y = 0.5 all the way to it's corresponding x - value (See graph below) we can get to know this \"Threshold\" value\n",
    "\n",
    "* This \"Threshold Value\" is x = __\n",
    "\n",
    "* This means that if x > _ then y > 0.5 (i.e. y = 1) \n",
    "\n",
    "* If x < _ then y < 0.5 (i.e. y = 0)\n",
    "\n",
    "* Therefore, this vertical line (x = _ ) which separates the 2 classes (y = 1 & 0) ---> **Decision Boundary**"
   ]
  },
  {
   "cell_type": "code",
   "execution_count": 6,
   "metadata": {
    "slideshow": {
     "slide_type": "subslide"
    }
   },
   "outputs": [
    {
     "data": {
      "text/plain": [
       "<matplotlib.text.Text at 0x11a949a90>"
      ]
     },
     "execution_count": 6,
     "metadata": {},
     "output_type": "execute_result"
    },
    {
     "data": {
      "image/png": "[encoded data removed]",
      "text/plain": [
       "<matplotlib.figure.Figure at 0x11a8d8a90>"
      ]
     },
     "metadata": {},
     "output_type": "display_data"
    }
   ],
   "source": [
    "x_critical = (0.5 - lm.intercept_)/ lm.coef_\n",
    "\n",
    "plt.figure(figsize=(10,6))\n",
    "plt.scatter(X, y, c='r', marker='x')\n",
    "plt.plot(z, z_predict)\n",
    "plt.axvline(x=x_critical, color='r', linestyle='--')\n",
    "plt.axhline(y=0.5, color='g', linestyle='--')\n",
    "plt.xlabel('Feature')\n",
    "plt.ylabel('Target')"
   ]
  },
  {
   "cell_type": "markdown",
   "metadata": {
    "slideshow": {
     "slide_type": "subslide"
    }
   },
   "source": [
    "## But wait! Sean Bean has something to say. . .\n",
    "***\n",
    "\n",
    "<center><img src=../images/meme_lotr.png alt=\"LOTR\" style=\"width: 400px;\"/></center>"
   ]
  },
  {
   "cell_type": "markdown",
   "metadata": {
    "slideshow": {
     "slide_type": "subslide"
    }
   },
   "source": [
    "## Linear Regression - Not a Good Idea\n",
    "***\n",
    "* It turns out, that Sean Ben is right! \n",
    "\n",
    "\n",
    "* The problem with this approach is that Linear Regression isn't robust to outliers and it changes the fit drastically in the presence of an outlier\n",
    "\n",
    "\n",
    "* We'll add an outlier and keep the same threshold as before to see the difference."
   ]
  },
  {
   "cell_type": "code",
   "execution_count": 7,
   "metadata": {
    "collapsed": true,
    "scrolled": true,
    "slideshow": {
     "slide_type": "subslide"
    }
   },
   "outputs": [],
   "source": [
    "new_obs = 20\n",
    "X = np.vstack([X, new_obs])\n",
    "y = np.append(y, 1)\n",
    "lm = LinearRegression()\n",
    "lm.fit(X, y)\n",
    "z = np.linspace(-2, new_obs, 1000)\n",
    "z_predict = lm.intercept_ + (lm.coef_ * z)\n",
    "x_critical2 = (0.5 - lm.intercept_)/ lm.coef_"
   ]
  },
  {
   "cell_type": "code",
   "execution_count": 11,
   "metadata": {
    "scrolled": false,
    "slideshow": {
     "slide_type": "subslide"
    }
   },
   "outputs": [
    {
     "data": {
      "image/png": "[encoded data removed]",
      "text/plain": [
       "<matplotlib.figure.Figure at 0x11a963b10>"
      ]
     },
     "metadata": {},
     "output_type": "display_data"
    }
   ],
   "source": [
    "plt.figure(figsize=(10,6))\n",
    "plt.scatter(X, y, c='r', marker='x')\n",
    "plt.plot(z, z_predict)\n",
    "plt.axvline(x=x_critical, color='r', linestyle='--')\n",
    "plt.axvline(x=x_critical2, color='y', linestyle='--')\n",
    "plt.xlabel('Feature')\n",
    "plt.ylabel('Target')\n",
    "plt.show()"
   ]
  },
  {
   "cell_type": "markdown",
   "metadata": {
    "slideshow": {
     "slide_type": "slide"
    }
   },
   "source": [
    "## Linear Regression - Not a Good Idea \n",
    "***\n",
    "* We see that our Decision Boundary has shifted to the right. As a result we get some incorrect predicted \"y-values\" (the one's left of the boundary) \n",
    "\n",
    "* Since the data is labeled we know that they're originally = \"1\". But being on the left of the decision boundary indicates that they should be assigned a \"0\"\n",
    "\n",
    "* Thus Linear Regression is not suitable for classification tasks as it is highly sensitive to outliers\n",
    "\n",
    "* We clearly need a better model to solve the problem of classification"
   ]
  },
  {
   "cell_type": "markdown",
   "metadata": {
    "slideshow": {
     "slide_type": "slide"
    }
   },
   "source": [
    "## Enter Logistic Regression\n",
    "***\n",
    "* To overcome the limitations of Linear Regression we'll use another model suitable for classification i.e., Logistic Regression.\n",
    "\n",
    "\n",
    "* What do we need? \n",
    "  - We need 0 <= y <= 1\n",
    "  \n",
    "* For this purpose we need to use a different function (and not the Linear Regression \"y = mx + b\")\n",
    "\n",
    "* This function is the **Sigmoid Function**\n"
   ]
  },
  {
   "cell_type": "markdown",
   "metadata": {
    "slideshow": {
     "slide_type": "subslide"
    }
   },
   "source": [
    "## Enter Logistic Regression \n",
    "***\n",
    "<center><img src=../images/meme_pratt.jpg alt=\"Oh Chris\" style=\"width: 400px;\"/></center>"
   ]
  },
  {
   "cell_type": "markdown",
   "metadata": {
    "slideshow": {
     "slide_type": "slide"
    }
   },
   "source": [
    "## What is the Sigmoid function?\n",
    "***\n",
    "* We need to get the values in the range of (0,1) \n",
    "\n",
    "* Let's have a look at the graph of the Sigmoid Function and then get into building the intuition\n",
    "***\n",
    "<center><img src=../images/sigmoid.png alt=\"Oh Chris\" style=\"width: 275px;\"/></center>"
   ]
  },
  {
   "cell_type": "markdown",
   "metadata": {
    "slideshow": {
     "slide_type": "slide"
    }
   },
   "source": [
    "<img src=\"../images/Maths-Insight.png\" alt=\"Maths-Insight\" style=\"width: 100px;float:left; margin-right:15px\"/>\n",
    "<br />\n",
    "## Intuition\n",
    "***\n",
    " - The function above is $g(z) = \\frac {1} {(1 + e^(-z))}$   for values of t ranging from - infinity , + infinity\n",
    " \n",
    " - $g(z)$ is also called as \"Sigmoid of 'z' or just sig(z)\"\n",
    " \n",
    " - Again, let's start by plugging in the extremes of it's range\n",
    " \n",
    " $g(-infinity) = \\frac {1} {(1 + infinity)} = ~0$\n",
    " \n",
    " \n",
    "   $g( infinity) = \\frac {1} {(1 + ~0)} = ~1$\n",
    " \n",
    " - No matter what value \"z\" takes, we will always get an answer in the range of **[0,1]**"
   ]
  },
  {
   "cell_type": "markdown",
   "metadata": {
    "slideshow": {
     "slide_type": "subslide"
    }
   },
   "source": [
    "<img src=\"../images/Technical-Stuff.png\" alt=\"Technical-Stuff\" style=\"width: 100px;float:left; margin-right:15px\"/>\n",
    "<br />\n",
    "## Simple Modifications\n",
    "***\n",
    "\n",
    " - Now, instead of sig(z) let's consider sig(y) **where y ---> our response**\n",
    " \n",
    " - But as discussed before; $y = \\theta_0 + \\theta_1(x1) + \\theta_2(x_2) + .. + \\theta_n(x_n)$\n",
    " \n",
    " - Thus, $g(y) = g(h_{\\theta}(x)) = 1/(1 + e^{-(\\theta* X)})$"
   ]
  },
  {
   "cell_type": "markdown",
   "metadata": {
    "slideshow": {
     "slide_type": "subslide"
    }
   },
   "source": [
    "<img src=\"../images/Technical-Stuff.png\" alt=\"Technical-Stuff\" style=\"width: 100px;float:left; margin-right:15px\"/>\n",
    "<br />\n",
    "## Interpretation - Let's put it simply\n",
    "***\n",
    "In essence: \n",
    "\n",
    " - $h_θ(x)$ is the ** Estimated Probability that y = 1 on input \"X\"** \n",
    " \n",
    " - Example: $h_θ(x)$ = 0.7 in our Tumor problem **MEANS** there is a 70% chance of Tumor being **Malignant**\n",
    " \n",
    " - Thus, mathematically, $h_θ(x)$ = P(y=1 | x; θ) means that **Probability that that y = 1 given X is parameterized by θ**\n",
    " \n",
    " - Thus **P(y=1 | x;θ) + P(y=0 | x;θ) = 1**\n",
    "\n"
   ]
  },
  {
   "cell_type": "markdown",
   "metadata": {
    "slideshow": {
     "slide_type": "subslide"
    }
   },
   "source": [
    "<img src=\"../images/Technical-Stuff.png\" alt=\"Technical-Stuff\" style=\"width: 100px;float:left; margin-right:15px\"/>\n",
    "<br />\n",
    "\n",
    "## Decision Boundary Intuition with Examples\n",
    "***\n",
    "\n",
    "We can see that g(z) >= 0.5 when z >= 0\n",
    "\n",
    "Thus $h_θ(x)$ = g(θ*X)) >= 0.5 whenever θ x $X$ >= 0\n",
    "\n",
    "<center><img src=../images/sigmoid.png alt=\"Oh Chris\" style=\"width: 275px;\"/></center>"
   ]
  },
  {
   "cell_type": "markdown",
   "metadata": {
    "slideshow": {
     "slide_type": "subslide"
    }
   },
   "source": [
    " - Consider: hθ(x) = g(θ0 + θ1x1 + θ2x2)\n",
    "\n",
    " - The graph below shows y - values (0 when \"O\" & 1 when \"X\") given values of x1 & x2\n",
    "***\n",
    "<center><img src=../images/Image[4].png alt=\"Math\" style=\"width: 275px;\"/></center>"
   ]
  },
  {
   "cell_type": "markdown",
   "metadata": {
    "slideshow": {
     "slide_type": "subslide"
    }
   },
   "source": [
    "So, for example  $θ_0 = -3, θ_1 = 1, θ_2 = 1$\n",
    "     \n",
    "So our parameter vector is a column vector with the above values\n",
    "   - So, θT  = [-3,1,1]\n",
    "   \n",
    "Thus the z here becomes θ x $X$\n"
   ]
  },
  {
   "cell_type": "markdown",
   "metadata": {
    "slideshow": {
     "slide_type": "subslide"
    }
   },
   "source": [
    "<img src=\"../images/Technical-Stuff.png\" alt=\"Technical-Stuff\" style=\"width: 100px;float:left; margin-right:15px\"/>\n",
    "<br />\n",
    "## Diving Deeper\n",
    "***\n",
    "We predict \"y = 1\" if\n",
    "  - -3x0 + 1x1 + 1x2 >= 0\n",
    "  - -3 + x1 + x2 >= 0\n",
    "  \n",
    "We can also re-write this as\n",
    " - If (x1 + x2 >= 3) then we predict y = 1\n",
    " - If we plot x1 + x2 = 3 we graphically plot our decision boundary (See next slide)"
   ]
  },
  {
   "cell_type": "markdown",
   "metadata": {
    "slideshow": {
     "slide_type": "subslide"
    }
   },
   "source": [
    "<img src=\"../images/Technical-Stuff.png\" alt=\"Technical-Stuff\" style=\"width: 100px;float:left; margin-right:15px\"/>\n",
    "<br />\n",
    "\n",
    "## Diving Deeper\n",
    "***\n",
    "<center><img src=../images/Image[5].png alt=\"Math\" style=\"width: 275px;\"/></center>"
   ]
  },
  {
   "cell_type": "markdown",
   "metadata": {
    "slideshow": {
     "slide_type": "subslide"
    }
   },
   "source": [
    "<img src=\"../images/Technical-Stuff.png\" alt=\"Technical-Stuff\" style=\"width: 100px;float:left; margin-right:15px\"/>\n",
    "<br />\n",
    "\n",
    "## Diving Deeper\n",
    "***\n",
    "We have two regions on the graph\n",
    " - Blue = false\n",
    " - Magenta = true\n",
    "\n",
    "**Line = Decision Boundary**\n",
    "\n",
    " - The straight line is the set of points where hθ(x) = 0.5 exactly\n",
    " - The decision boundary is a property of the hypothesis\n",
    " - Means we can create the boundary with the hypothesis and parameters without any data\n",
    "\n",
    "Later, we use the data to determine the parameter values\n",
    "\n",
    "i.e. y = 1 if\n",
    "\n",
    "5 - x1 > 0\n",
    "\n",
    "5 > x1"
   ]
  },
  {
   "cell_type": "markdown",
   "metadata": {
    "slideshow": {
     "slide_type": "subslide"
    }
   },
   "source": [
    "<img src=\"../images/Technical-Stuff.png\" alt=\"Technical-Stuff\" style=\"width: 100px;float:left; margin-right:15px\"/>\n",
    "<br />\n",
    "\n",
    "## Non - Linear Decision Boundaries\n",
    "***\n",
    "We can also use Logistic Regression to fit a complex non-linear data set\n",
    "\n",
    " - Like polynomial regression: add higher order terms\n",
    "\n",
    "So say we have\n",
    " - $hθ(x) = g(θ_0 + θ_1x_1+ θ_2x_2 + θ_3x_1^2 + θ_4x_2^2)$\n",
    " \n",
    " - We take the transpose of the θ vector times the input vector \n",
    "\n",
    "Say θ was [-1,0,0,1,1] then we say;\n",
    " - Predict that \"y = 1\" if\n",
    " - $-1 + x_1^2 + x_2^2 >= 0$ or\n",
    " - $x_1^2 + x_2^2 >= 1$\n",
    " \n",
    "If we plot  \n",
    "$$x_1^2 + x_2^2 = 1$$\n",
    " \n",
    " - This gives us a circle with a radius of 1 around 0 (see next slide)"
   ]
  },
  {
   "cell_type": "markdown",
   "metadata": {
    "slideshow": {
     "slide_type": "subslide"
    }
   },
   "source": [
    "<img src=\"../images/Technical-Stuff.png\" alt=\"Technical-Stuff\" style=\"width: 100px;float:left; margin-right:15px\"/>\n",
    "<br />\n",
    "## Non - Linear Decision Boundaries\n",
    "***\n",
    "<center><img src=../images/Image[6].png alt=\"Math\" style=\"width: 275px;\"/></center>"
   ]
  },
  {
   "cell_type": "markdown",
   "metadata": {
    "slideshow": {
     "slide_type": "subslide"
    }
   },
   "source": [
    "## Non - Linear Decision Boundaries\n",
    "***\n",
    " -  We can build more complex decision boundaries by fitting complex parameters to this (relatively) simple hypothesis\n",
    " - More complex decision boundaries?\n",
    "      - By using higher order polynomial terms, we can get even more complex decision boundaries\n",
    "***      \n",
    " <center><img src=../images/Image[7].png alt=\"Math\" style=\"width: 200px;\"/></center>"
   ]
  },
  {
   "cell_type": "code",
   "execution_count": 218,
   "metadata": {
    "slideshow": {
     "slide_type": "subslide"
    }
   },
   "outputs": [
    {
     "data": {
      "text/plain": [
       "LogisticRegression(C=1.0, class_weight=None, dual=False, fit_intercept=True,\n",
       "          intercept_scaling=1, max_iter=100, multi_class='ovr', n_jobs=1,\n",
       "          penalty='l2', random_state=None, solver='liblinear', tol=0.0001,\n",
       "          verbose=0, warm_start=False)"
      ]
     },
     "execution_count": 218,
     "metadata": {},
     "output_type": "execute_result"
    }
   ],
   "source": [
    "from sklearn.linear_model import LogisticRegression\n",
    "clf = LogisticRegression()\n",
    "\n",
    "X, y = make_classification(n_samples=10, n_features=1, n_informative=1, n_redundant=0 , n_clusters_per_class=1, flip_y=0, random_state=7)\n",
    "clf = LogisticRegression()\n",
    "clf.fit(X, y)"
   ]
  },
  {
   "cell_type": "code",
   "execution_count": 220,
   "metadata": {
    "scrolled": false,
    "slideshow": {
     "slide_type": "subslide"
    }
   },
   "outputs": [
    {
     "data": {
      "text/plain": [
       "<matplotlib.text.Text at 0x7f6d5a2efdd0>"
      ]
     },
     "execution_count": 220,
     "metadata": {},
     "output_type": "execute_result"
    },
    {
     "data": {
      "image/png": "[encoded data removed]",
      "text/plain": [
       "<matplotlib.figure.Figure at 0x7f6d5a2d1ad0>"
      ]
     },
     "metadata": {},
     "output_type": "display_data"
    }
   ],
   "source": [
    "plt.figure(figsize=(10,6))\n",
    "plt.scatter(X, y, c='r', marker='x')\n",
    "xt = np.linspace(-3, 3, 1000).reshape(1000,1)\n",
    "yt = clf.predict(xt)\n",
    "plt.plot(xt, yt)\n",
    "plt.xlabel('Feature')\n",
    "plt.ylabel('Target')"
   ]
  },
  {
   "cell_type": "markdown",
   "metadata": {
    "slideshow": {
     "slide_type": "subslide"
    }
   },
   "source": [
    "* In the case with no outliers Logistic Regression does a good job in seperating the classes\n",
    "* We'll add an outlier and check if it still manages to do the same"
   ]
  },
  {
   "cell_type": "code",
   "execution_count": 214,
   "metadata": {
    "slideshow": {
     "slide_type": "subslide"
    }
   },
   "outputs": [
    {
     "data": {
      "text/plain": [
       "LogisticRegression(C=1.0, class_weight=None, dual=False, fit_intercept=True,\n",
       "          intercept_scaling=1, max_iter=100, multi_class='ovr', n_jobs=1,\n",
       "          penalty='l2', random_state=None, solver='liblinear', tol=0.0001,\n",
       "          verbose=0, warm_start=False)"
      ]
     },
     "execution_count": 214,
     "metadata": {},
     "output_type": "execute_result"
    }
   ],
   "source": [
    "new_obs = 20\n",
    "X = np.vstack([X, new_obs])\n",
    "y = np.append(y, 1)\n",
    "clf.fit(X, y)"
   ]
  },
  {
   "cell_type": "code",
   "execution_count": 217,
   "metadata": {
    "slideshow": {
     "slide_type": "subslide"
    }
   },
   "outputs": [
    {
     "data": {
      "text/plain": [
       "[<matplotlib.lines.Line2D at 0x7f6d5a4e3ad0>]"
      ]
     },
     "execution_count": 217,
     "metadata": {},
     "output_type": "execute_result"
    },
    {
     "data": {
      "image/png": "[encoded data removed]",
      "text/plain": [
       "<matplotlib.figure.Figure at 0x7f6d5a457c90>"
      ]
     },
     "metadata": {},
     "output_type": "display_data"
    }
   ],
   "source": [
    "plt.figure(figsize=(10,6))\n",
    "plt.scatter(X, y, c='r', marker='x')\n",
    "xt = np.linspace(-5, 25, 1000).reshape(1000,1)\n",
    "yt = clf.predict(xt)\n",
    "plt.plot(xt, yt)\n",
    "plt.xlabel('Feature')\n",
    "plt.ylabel('Target')"
   ]
  },
  {
   "cell_type": "markdown",
   "metadata": {
    "slideshow": {
     "slide_type": "subslide"
    }
   },
   "source": [
    "* Even after adding outliers LR seperates the classes well.\n",
    "* Thus its much more suitable for classification.\n"
   ]
  },
  {
   "cell_type": "markdown",
   "metadata": {
    "slideshow": {
     "slide_type": "subslide"
    }
   },
   "source": [
    "## John's Approach\n",
    "***\n",
    "- After learning this, John wanted to check how his data set could use the same techniques\n",
    "- He wanted further insight to what his data set looks like and how he would go about implementing this \n",
    "- He thought it would be smart if he split his data set into a *Training Set* and *Test Set* \n",
    "\n",
    "    - I'll leave it to you to figure out why he thought this would be appropriate"
   ]
  },
  {
   "cell_type": "code",
   "execution_count": 13,
   "metadata": {
    "collapsed": true,
    "slideshow": {
     "slide_type": "subslide"
    }
   },
   "outputs": [],
   "source": [
    "import pandas as pd\n",
    "from sklearn.linear_model import LogisticRegression\n",
    "from sklearn.model_selection import train_test_split\n",
    "from sklearn.metrics import accuracy_score\n",
    "from sklearn.preprocessing import PolynomialFeatures\n",
    "from sklearn.pipeline import Pipeline"
   ]
  },
  {
   "cell_type": "code",
   "execution_count": 14,
   "metadata": {
    "collapsed": true,
    "slideshow": {
     "slide_type": "subslide"
    }
   },
   "outputs": [],
   "source": [
    "dataframe = pd.read_csv('../data/loan_prediction.csv')\n",
    "X = dataframe.iloc[:,:-1]\n",
    "y = dataframe.iloc[:,-1]\n",
    "\n",
    "X_train,X_test,y_train,y_test = train_test_split(X,y,test_size = 0.3)\n",
    "logistic_regressor = LogisticRegression()\n",
    "pipeline = Pipeline(steps=[('add_poly_features', PolynomialFeatures()),\n",
    "                           ('logistic_regression', logistic_regressor)])"
   ]
  },
  {
   "cell_type": "code",
   "execution_count": 16,
   "metadata": {
    "slideshow": {
     "slide_type": "subslide"
    }
   },
   "outputs": [
    {
     "name": "stdout",
     "output_type": "stream",
     "text": [
      "0.72972972973\n"
     ]
    }
   ],
   "source": [
    "pipeline.fit(X_train, y_train)\n",
    "y_pred = pipeline.predict(X_test)\n",
    "print accuracy_score(y_test, y_pred)"
   ]
  },
  {
   "cell_type": "markdown",
   "metadata": {
    "slideshow": {
     "slide_type": "slide"
    }
   },
   "source": [
    "## Hyperparameter Tuning\n",
    "***\n",
    "* We saw while discussing regularization that by changing the value of 𝛂, we can control the bias-variance trade-off.<br>\n",
    "\n",
    "* Similarly there are many such parameters, by controlling and changing whom we can fine tune performance of a model.\n",
    "\n",
    "* Such parameters are called hyperparameters and the act of controlling and changing them to fine tune the performance of a model is called hyperparameter tuning.\n",
    "\n",
    "*  *Hyperparameters are parameters whose values are set prior to the commencement of the learning process.*"
   ]
  },
  {
   "cell_type": "markdown",
   "metadata": {
    "slideshow": {
     "slide_type": "subslide"
    }
   },
   "source": [
    "## Hyperparameter Tuning\n",
    "***\n",
    "* By contrast, the value of other parameters is derived via training.\n",
    "\n",
    "\n",
    "* Hyperparameter optimization or model selection is the problem of choosing a set of optimal hyperparameters for a learning algorithm, usually with the goal of optimizing a measure of the algorithm's performance on an independent data set."
   ]
  },
  {
   "cell_type": "markdown",
   "metadata": {
    "slideshow": {
     "slide_type": "subslide"
    }
   },
   "source": [
    "## Hyperparameter Tuning\n",
    "***\n",
    "So, to summarize Hyperparameters: \n",
    "\n",
    "* Define higher level concepts about the model such as complexity, or capacity to learn.\n",
    "* Cannot be learned directly from the data in the standard model training process and need to be predefined.\n",
    "* Can be decided by setting different values, training different models, and choosing the values that test better.\n"
   ]
  },
  {
   "cell_type": "markdown",
   "metadata": {
    "slideshow": {
     "slide_type": "subslide"
    }
   },
   "source": [
    "## Hyperparameter Tuning\n",
    "***\n",
    "Some examples of hyperparameters: \n",
    "\n",
    "\n",
    "* Number of leaves or depth of a tree.\n",
    "* Number of latent factors in a matrix factorization.\n",
    "* Learning rate (in many models).\n",
    "* Number of hidden layers in a deep neural network.\n",
    "* Number of clusters in a k-means clustering."
   ]
  },
  {
   "cell_type": "markdown",
   "metadata": {
    "slideshow": {
     "slide_type": "subslide"
    }
   },
   "source": [
    "## Overview of Methods of Hyperparamter Tuning\n",
    "***\n",
    "* Grid Search\n",
    "* Random Search"
   ]
  },
  {
   "cell_type": "markdown",
   "metadata": {
    "slideshow": {
     "slide_type": "slide"
    }
   },
   "source": [
    "## Grid Search\n",
    "***\n",
    "* Grid search is an approach to parameter tuning that will methodically build and evaluate a model for each combination of algorithm parameters specified in a grid.\n",
    "\n",
    "The grid is generally provided as a parameter.\n",
    "\n"
   ]
  },
  {
   "cell_type": "markdown",
   "metadata": {
    "slideshow": {
     "slide_type": "subslide"
    }
   },
   "source": [
    "## Grid Search\n",
    "***\n",
    "* Let's see how we can perform the gridsearch using sklearn.\n",
    "* Here, first we decide which parameters we check using grid search, and also decide the values at which we want to carry out the search."
   ]
  },
  {
   "cell_type": "markdown",
   "metadata": {
    "slideshow": {
     "slide_type": "subslide"
    }
   },
   "source": [
    "## Defining the parameters in `sklearn`\n",
    "***\n",
    "* We can specify the parameters for a particular element in the pipeline by concatenating the parameter name with element name using a double underscore (\"__\")\n",
    "* For a single element, just specify parameter and values\n",
    "* See an example below"
   ]
  },
  {
   "cell_type": "code",
   "execution_count": 20,
   "metadata": {
    "collapsed": true,
    "slideshow": {
     "slide_type": "subslide"
    }
   },
   "outputs": [],
   "source": [
    "from sklearn.linear_model import Ridge\n",
    "from sklearn.model_selection import GridSearchCV,cross_val_score\n",
    "from sklearn.metrics import classification_report\n",
    "\n",
    "## For a single object\n",
    "ridge = Ridge()\n",
    "params = {\"alpha\": [1, 2, 5, 10],\n",
    "          \"fit_intercept\": [True, False]}"
   ]
  },
  {
   "cell_type": "code",
   "execution_count": 21,
   "metadata": {
    "collapsed": true,
    "slideshow": {
     "slide_type": "subslide"
    }
   },
   "outputs": [],
   "source": [
    "## For a pipeline object\n",
    "pipeline = Pipeline(steps=[('add_poly_features', PolynomialFeatures()),\n",
    "                           ('logistic_regression', logistic_regressor)])\n",
    "\n",
    "## Defining the parametrs grid\n",
    "params = {'add_poly_features__degree':[2,3,4,5],\n",
    "          'logistic_regression__penalty':['l1','l2']}"
   ]
  },
  {
   "cell_type": "markdown",
   "metadata": {
    "slideshow": {
     "slide_type": "subslide"
    }
   },
   "source": [
    "## Using `gridsearch` in `sklearn`\n",
    "***\n",
    "* After defining the object and the parameters grid, pass them in the  `GridSearchCV` and let sklearn take over!"
   ]
  },
  {
   "cell_type": "code",
   "execution_count": 22,
   "metadata": {
    "slideshow": {
     "slide_type": "subslide"
    }
   },
   "outputs": [
    {
     "data": {
      "text/plain": [
       "array([ 0.73611111,  0.75524476,  0.73943662])"
      ]
     },
     "execution_count": 22,
     "metadata": {},
     "output_type": "execute_result"
    }
   ],
   "source": [
    "grid_search = GridSearchCV(estimator=pipeline, param_grid=params)\n",
    "grid_search.fit(X_train,y_train)\n",
    "y_prediction = grid_search.predict(X_test)\n",
    "\n",
    "cross_val_score(grid_search.best_estimator_,X_train,y_train)"
   ]
  },
  {
   "cell_type": "markdown",
   "metadata": {
    "slideshow": {
     "slide_type": "slide"
    }
   },
   "source": [
    "## Random Search\n",
    "***\n",
    "* Random search is an approach to parameter tuning that will sample algorithm parameters from a random distribution (i.e. uniform) for a fixed number of iterations.\n",
    "* A model is constructed and evaluated for each combination of parameters chosen.\n"
   ]
  },
  {
   "cell_type": "markdown",
   "metadata": {
    "slideshow": {
     "slide_type": "subslide"
    }
   },
   "source": [
    "## Using Random Search in `sklearn` \n",
    "***"
   ]
  },
  {
   "cell_type": "code",
   "execution_count": 23,
   "metadata": {
    "slideshow": {
     "slide_type": "subslide"
    }
   },
   "outputs": [
    {
     "data": {
      "text/plain": [
       "array([ 0.76388889,  0.77622378,  0.75352113])"
      ]
     },
     "execution_count": 23,
     "metadata": {},
     "output_type": "execute_result"
    }
   ],
   "source": [
    "from sklearn.model_selection import RandomizedSearchCV\n",
    "params = {'add_poly_features__degree': range(0,4),\n",
    "          'logistic_regression__penalty':['l1','l2']}\n",
    "\n",
    "rand_search = RandomizedSearchCV(estimator = pipeline,param_distributions = params, n_iter=5)\n",
    "rand_search.fit(X_train,y_train)\n",
    "y_prediction = rand_search.predict(X_test)\n",
    "\n",
    "cross_val_score(rand_search.best_estimator_,X_train,y_train)"
   ]
  },
  {
   "cell_type": "markdown",
   "metadata": {
    "slideshow": {
     "slide_type": "slide"
    }
   },
   "source": [
    "## Changing Tracks for a bit\n",
    "***\n",
    "- Now that we're getting a better idea of Logistic Regression, we need to understand what is happening behind the scenes! \n",
    "\n",
    "- How are we getting correct predictions with the help of the sigmoid function? \n",
    "\n",
    "- As you might have guessed, like Linear Regression, this has a lot to do with our Paramters (thetas) AND how we get those optimal parameters (computationally)\n",
    "\n",
    "- Getting those optimal parameters is directly related to the Cost Function!! Let's get straight to it! "
   ]
  },
  {
   "cell_type": "markdown",
   "metadata": {
    "slideshow": {
     "slide_type": "slide"
    }
   },
   "source": [
    "## Logistic Regression - Cost Function and Gradient Descent\n",
    "***\n",
    "- Till now we studied the intuition behind the Sigmoid Function\n",
    "\n",
    "- We also studied how Logistic Regression works to get outputs in the range of [0,1]\n",
    "\n",
    "- We discussed the interpretation of the output too! \n",
    "\n",
    "<div class=\"alert alert-block alert-info\"> Now, like Linear Regression let's delve deeper into the intuition behind the Cost Function and how we apply Gradient Descent to make things work in Logistic Regression. It's actually quite clever!\n",
    "</div>"
   ]
  },
  {
   "cell_type": "markdown",
   "metadata": {
    "slideshow": {
     "slide_type": "slide"
    }
   },
   "source": [
    "## Cost Function \n",
    "***\n",
    " - Fit θ parameters\n",
    " - Define the optimization object for the cost function we use the fit the parameters\n",
    "     - Training set consists of **\"m\"** training examples\n",
    "         - Each example has is **n+1** length column vector\n",
    "***      \n",
    " <center><img src=../images/Image[8].png alt=\"Math\" style=\"width: 350px;\"/></center> "
   ]
  },
  {
   "cell_type": "markdown",
   "metadata": {
    "slideshow": {
     "slide_type": "subslide"
    }
   },
   "source": [
    "## Cost Function\n",
    "***\n",
    "* This is the situation: \n",
    "  - Set of m training examples\n",
    "  - Each example is a feature vector which is n+1 dimensional\n",
    "  - x0 = 1\n",
    "  - y ∈ {0,1}\n",
    "  - Hypothesis is based on parameters (θ)\n",
    "      - **Given the training set how to we chose/fit θ?**\n"
   ]
  },
  {
   "cell_type": "markdown",
   "metadata": {
    "slideshow": {
     "slide_type": "subslide"
    }
   },
   "source": [
    "## Cost Function\n",
    "***\n",
    " - For Linear Regression we use the following Cost Function to determine optimal θ's\n",
    " ***      \n",
    " <center><img src=../images/Image[9].png alt=\"Math\" style=\"width: 250px;\"/></center> "
   ]
  },
  {
   "cell_type": "markdown",
   "metadata": {
    "slideshow": {
     "slide_type": "subslide"
    }
   },
   "source": [
    "## Cost Function\n",
    "***\n",
    "- Instead of writing the squared error term, we can write; if we define \"cost()\", \n",
    "Which evaluates to the cost for an individual example using the same measure as used in linear regression\n",
    "\n",
    " - We can redefine J(θ) as\n",
    "\n",
    "***      \n",
    " <center><img src=../images/Image[10].png alt=\"Math\" style=\"width: 250px;\"/></center> "
   ]
  },
  {
   "cell_type": "markdown",
   "metadata": {
    "slideshow": {
     "slide_type": "subslide"
    }
   },
   "source": [
    "<img src=\"../images/Maths-Insight.png\" alt=\"Maths-Insight\" style=\"width: 100px;float:left; margin-right:15px\"/>\n",
    "<br />\n",
    "## Cost Function\n",
    "***\n",
    " - What does this actually mean?\n",
    "   - This is the cost you want the learning algorithm to pay if the **outcome is hθ(x)** and the *actual outcome is y*\n",
    "   \n",
    " - What else do we need to consider?\n",
    "   - We would like a **convex function** so if you run gradient descent you converge to a **global minimum**\n",
    "   \n",
    " - Why? \n",
    "   - If we just use the Sigmoid function as is in the cost function on the previous slide, it's a **NON-CONVEX** function \n",
    " \n",
    " - What do you mean by Non-Convex? \n",
    "   - Our hypothesis function has a non-linearity (sigmoid function of hθ(x) )\n",
    "   - This is a non-linear function\n",
    "   "
   ]
  },
  {
   "cell_type": "markdown",
   "metadata": {
    "slideshow": {
     "slide_type": "subslide"
    }
   },
   "source": [
    "<img src=\"../images/Maths-Insight.png\" alt=\"Maths-Insight\" style=\"width: 100px;float:left; margin-right:15px\"/>\n",
    "<br />\n",
    "## Cost Function - Local Optima vs Global Optima\n",
    "***\n",
    "Since it's non-convex:\n",
    "\n",
    " - If you take hθ(x) and plug it into the Cost() function, and them plug the Cost() function into J(θ) and plot J(θ) we find many **local optimum** -> non convex function\n",
    " \n",
    " - Why is this a problem?\n",
    "     - Lots of **local minima** mean gradient descent may not find the **global optimum** - may get stuck in a global minimum\n",
    "     - We would like a convex function so if you run gradient descent you converge to a global minimum\n",
    "***      \n",
    " <center><img src=../images/local-optima.png alt=\"Math\" style=\"width: 500px;\"/></center> "
   ]
  },
  {
   "cell_type": "markdown",
   "metadata": {
    "slideshow": {
     "slide_type": "subslide"
    }
   },
   "source": [
    "<img src=\"../images/Maths-Insight.png\" alt=\"Maths-Insight\" style=\"width: 100px;float:left; margin-right:15px\"/>\n",
    "<br />\n",
    "## A Convex Cost Function \n",
    "***\n",
    " - To get around this we need a different, convex Cost() function which means we can apply gradient descent\n",
    " - This is our Logistic Regression Cost Function: \n",
    " ***\n",
    " <center><img src=\"../images/Images[12].jpg\" alt=\"Math\" style=\"width: 500px;\"/></center>"
   ]
  },
  {
   "cell_type": "markdown",
   "metadata": {
    "slideshow": {
     "slide_type": "subslide"
    }
   },
   "source": [
    " - Let's consider y = 1 and plot the fucntion\n",
    "  ***  \n",
    " <center><img src=../images/Image[13].png alt=\"Math\" style=\"width: 250px;\"/></center>"
   ]
  },
  {
   "cell_type": "markdown",
   "metadata": {
    "slideshow": {
     "slide_type": "subslide"
    }
   },
   "source": [
    "## Intuition - Convex Cost Function\n",
    "***\n",
    " - X axis is what we predict\n",
    " \n",
    " - **Y axis is the cost associated with that prediction**\n",
    " \n",
    "So when we're right, i.e when the predicted and actual y = 1 \n",
    " - cost function is 0\n",
    " \n",
    "Else it slowly increases cost function as we become \"more\" wrong\n",
    "\n",
    "This cost functions has some interesting properties:\n",
    "\n",
    " - If y = 1 and hθ(x) = 1\n",
    "If hypothesis predicts exactly 1 and thats exactly correct then that corresponds to 0 (exactly, not nearly 0)\n",
    "\n",
    "As hθ(x) goes to 0\n",
    " - Cost goes to infinity\n",
    "\n",
    "This captures the intuition that if hθ(x) = 0 (predict P (y=1|x; θ) = 0) but y = 1 this will penalize the learning algorithm with a **massive cost**"
   ]
  },
  {
   "cell_type": "markdown",
   "metadata": {
    "slideshow": {
     "slide_type": "subslide"
    }
   },
   "source": [
    "## Intuition - Convex Cost Function\n",
    "***\n",
    "Let's plot the cost function when y = 0\n",
    "***\n",
    " <center><img src=../images/Image[14].png alt=\"Math\" style=\"width: 250px;\"/></center>"
   ]
  },
  {
   "cell_type": "markdown",
   "metadata": {
    "slideshow": {
     "slide_type": "subslide"
    }
   },
   "source": [
    "<img src=\"../images/Maths-Insight.png\" alt=\"Maths-Insight\" style=\"width: 100px;float:left; margin-right:15px\"/>\n",
    "<br />\n",
    "## Intuition - Convex Cost Function\n",
    "***\n",
    " - When y = 0, we know that the cost is  -log(1- hθ( x ))\n",
    " \n",
    " \n",
    " - In essence, it's the inverese of the cost when y = 1. We can see that graphically [previous slide]\n",
    " \n",
    " \n",
    " - Now it goes to **plus infinity as hθ(x) goes to 1**\n",
    " \n",
    " \n",
    " - With our particular cost functions J(θ) is going to be **convex** and avoid local minimum"
   ]
  },
  {
   "cell_type": "markdown",
   "metadata": {
    "slideshow": {
     "slide_type": "subslide"
    }
   },
   "source": [
    "## This is true..\n",
    "\n",
    "***\n",
    " <center><img src=../images/meme_orlando.png alt=\"OB\" style=\"width: 400px;\"/></center>"
   ]
  },
  {
   "cell_type": "markdown",
   "metadata": {
    "slideshow": {
     "slide_type": "slide"
    }
   },
   "source": [
    "<img src=\"../images/Maths-Insight.png\" alt=\"Maths-Insight\" style=\"width: 100px;float:left; margin-right:15px\"/>\n",
    "<br />\n",
    "## Enter : Simplified Cost Function \n",
    "***\n",
    "An easier way to write the cost function is when we combine the 2: \n",
    "\n",
    " - cost(hθ, (x),y) = -ylog( hθ(x) ) - (1-y)log( 1- hθ(x) ) \n",
    " \n"
   ]
  },
  {
   "cell_type": "markdown",
   "metadata": {
    "slideshow": {
     "slide_type": "slide"
    }
   },
   "source": [
    "## Simplified Cost Function \n",
    "***\n",
    "When y = 1\n",
    " - Then our equation simplifies to:\n",
    "    - -log(hθ(x)) - (0)log(1 - hθ(x))\n",
    "    - = -log(hθ(x))\n",
    "\n",
    " - **Which is what we had before when y = 1**\n",
    " "
   ]
  },
  {
   "cell_type": "markdown",
   "metadata": {
    "slideshow": {
     "slide_type": "subslide"
    }
   },
   "source": [
    "## Simplified Cost Function \n",
    "***\n",
    "When y = 0\n",
    "\n",
    " - Then our equation simplifies to:\n",
    "     - -(0)log(hθ(x)) - (1)log(1 - hθ(x))\n",
    "     - = -log(1- hθ(x))\n",
    " - **Which is what we had before when y = 0**\n",
    " \n",
    "Clever!"
   ]
  },
  {
   "cell_type": "markdown",
   "metadata": {
    "slideshow": {
     "slide_type": "subslide"
    }
   },
   "source": [
    "<img src=\"../images/Maths-Insight.png\" alt=\"Maths-Insight\" style=\"width: 100px;float:left; margin-right:15px\"/>\n",
    "<br />\n",
    "## Simplified Cost Function\n",
    "***\n",
    "To sum it up, our cost function for \"m\" training examples is: \n",
    "***\n",
    " <img src=../images/Image[16].png alt=\"Math\" style=\"width: 400px;\"/>"
   ]
  },
  {
   "cell_type": "markdown",
   "metadata": {
    "slideshow": {
     "slide_type": "subslide"
    }
   },
   "source": [
    "## Utilizing Gradient Descent\n",
    "***\n",
    " - Now to get minimum θ : Repeat: \n",
    "***\n",
    " <center><img src=../images/image31.png alt=\"OB\" style=\"width: 250px;\"/></center>\n",
    "***\n",
    " - We need to Minimize J(θ)"
   ]
  },
  {
   "cell_type": "markdown",
   "metadata": {
    "slideshow": {
     "slide_type": "subslide"
    }
   },
   "source": [
    "<img src=\"../images/Maths-Insight.png\" alt=\"Maths-Insight\" style=\"width: 100px;float:left; margin-right:15px\"/>\n",
    "<br />\n",
    "## Utilizing Gradient Descent\n",
    "***\n",
    " - After doing some mathematical derivations and re-arranging, we get an Algorithm that's similar to the one we encountered in Linear Regression:\n",
    "***\n",
    " <center><img src=../images/image34.png alt=\"OB\" style=\"width: 200px;\"/></center>\n",
    "***\n",
    "and this is how we simultaneously update \"θ\" for all \"j\".  Also:\n",
    "***\n",
    " <center><img src=../images/Image[17].png alt=\"OB\" style=\"width: 200px;\"/></center>"
   ]
  },
  {
   "cell_type": "markdown",
   "metadata": {
    "slideshow": {
     "slide_type": "subslide"
    }
   },
   "source": [
    "<img src=\"../images/Maths-Insight.png\" alt=\"Maths-Insight\" style=\"width: 100px;float:left; margin-right:15px\"/>\n",
    "<br />\n",
    "## Simply Put\n",
    "***\n",
    " <center><img src=../images/Image[18].png alt=\"OB\" style=\"width: 350px;\"/></center>"
   ]
  },
  {
   "cell_type": "markdown",
   "metadata": {
    "slideshow": {
     "slide_type": "subslide"
    }
   },
   "source": [
    "## We're getting there...\n",
    "***\n",
    "<center><img src=../images/meme_shawshank.jpg alt=\"Oh Andy\" style=\"width: 500px;\"/></center>"
   ]
  },
  {
   "cell_type": "markdown",
   "metadata": {
    "slideshow": {
     "slide_type": "subslide"
    }
   },
   "source": [
    "## Back to John's Problem\n",
    "***\n",
    "John wants apply this model to his loan prediction dataset, but he will have to wait till you solve your project!\n"
   ]
  },
  {
   "cell_type": "markdown",
   "metadata": {
    "slideshow": {
     "slide_type": "slide"
    }
   },
   "source": [
    "## Ways to Evaluate \n",
    "***\n",
    " - We can tell that if we sit to cross-check each and every prediction, it can take days to find out how well our model did\n",
    " \n",
    " - This calls for a better method to evaluate our model. Methods such as Confusion Matrix, accuracy, F1-score, etc are all very handy mechanisms and are very easy to build due to the advanced libraries available to us! \n",
    " \n",
    " - Let's check these out! "
   ]
  },
  {
   "cell_type": "markdown",
   "metadata": {
    "slideshow": {
     "slide_type": "slide"
    }
   },
   "source": [
    "## Evalution Metrics for Logistic Regression\n",
    "***\n",
    "* As we already know, we use different metrics for regression and classification\n",
    "* We know that we can use `MSE` for regression problems and `Accuracy` for classification problems\n",
    "* However, these might not be the best metrics in every situation<br><br>"
   ]
  },
  {
   "cell_type": "markdown",
   "metadata": {
    "slideshow": {
     "slide_type": "subslide"
    }
   },
   "source": [
    "## Evalution Metrics for Logistic Regression\n",
    "***\n",
    "**Example**<br><br>\n",
    "We are trying to detect credit card fraud.\n",
    "Occurrence rate of fraud is 3 in 1000.\n",
    "Let's say our model predicted as in the table : \n",
    "\n",
    "\n",
    "| Value | Fraud  | Not Fraud |\n",
    "|---|---|---|\n",
    "| Predicted Fraud | 1 | 1 |\n",
    "| Predicted Not Fraud | 2 | 996 |\n",
    "\n",
    "\n",
    "* Following are the types of Classification Metrics :\n",
    "    * Confusion Matrix\n",
    "    * Classification Matrix\n",
    "    * F1 Score\n",
    "    * Area under ROC curve\n",
    "    * Classification Report\n",
    "    * Logarithmic Loss"
   ]
  },
  {
   "cell_type": "markdown",
   "metadata": {
    "slideshow": {
     "slide_type": "subslide"
    }
   },
   "source": [
    "### Confusion Matrix\n",
    "***\n",
    "- The confusion matrix is a handy presentation of the accuracy of a model with two or more classes. Below is an example of a Confusion Matrix \n",
    "<br><br>\n",
    "\n",
    "\n",
    "| Value | Fraud  | Not Fraud |\n",
    "|---|---|---|\n",
    "| Predicted Fraud | 1 | 1 |\n",
    "| Predicted Not Fraud | 2 | 996 |\n",
    "\n",
    "\n",
    "    True Positives (TP): These are predicted yes and actually yes (Top Left)\n",
    "    True Negatives (TN): We predicted no, and actually no (Top Right) \n",
    "    False Positives (FP): We predicted yes, but actually no. (AKA \"Type I error.\") (Top Right) \n",
    "    False Negatives (FN): We predicted no, but yes. (AKA\"Type II error.\") (Bottom Left)\n"
   ]
  },
  {
   "cell_type": "markdown",
   "metadata": {
    "slideshow": {
     "slide_type": "subslide"
    }
   },
   "source": [
    "### Confusion Matrix\n",
    "***\n",
    "* Classification accuracy is the number of correct predictions **(TN + TP)** made as a ratio of all predictions made. **(TN + TP +FN + FP)**<br><br>\n",
    "It is suitable when :\n",
    "* There are an equal number of observations in each class\n",
    "* That all predictions and prediction errors are equally important,which is often not the case."
   ]
  },
  {
   "cell_type": "markdown",
   "metadata": {
    "slideshow": {
     "slide_type": "subslide"
    }
   },
   "source": [
    "## John's Confusion Matrix\n",
    "***\n",
    " - John now considers viewing the confusion matrix to see how well his model performed\n",
    " \n",
    " - Let's see how he did this in Python"
   ]
  },
  {
   "cell_type": "code",
   "execution_count": 24,
   "metadata": {
    "slideshow": {
     "slide_type": "subslide"
    }
   },
   "outputs": [
    {
     "data": {
      "text/plain": [
       "array([[ 16,  46],\n",
       "       [  4, 119]])"
      ]
     },
     "execution_count": 24,
     "metadata": {},
     "output_type": "execute_result"
    }
   ],
   "source": [
    "# Applying confusion matrix on above data\n",
    "from sklearn.metrics import confusion_matrix\n",
    "confusion_matrix(y_test,y_pred)"
   ]
  },
  {
   "cell_type": "markdown",
   "metadata": {
    "slideshow": {
     "slide_type": "subslide"
    }
   },
   "source": [
    "## Precision and Recall \n",
    "***\n",
    "So we have \n",
    "\n",
    "\n",
    "| Value | Actual Class 1  | Actual Class 0 |\n",
    "|---|---|---|\n",
    "| Predicted Class 1| True +ve  | False +ve |\n",
    "| Predicted Class 0 | False -ve | True -ve  |\n",
    "\n",
    "\n",
    "Consider this: Let's say *y=1* in presence of Cancer in a patient\n",
    "\n",
    " - Now, of all patients where we predicted y = 1, what fraction actually has cancer? Think about this given the table above! "
   ]
  },
  {
   "cell_type": "markdown",
   "metadata": {
    "slideshow": {
     "slide_type": "subslide"
    }
   },
   "source": [
    "## Precision and Recall \n",
    "***\n",
    "It turns out that what we're trying to calculate is nothing but the **Precision** of the model\n",
    "\n",
    "Here, \n",
    "\n",
    "\n",
    "$$Precision = \\frac {(True +ves)} {(True +ves  +  False +ves)}$$\n",
    "\n",
    "Doesn't this make sense? This is the fraction that **ACTUALLY** has Cancer"
   ]
  },
  {
   "cell_type": "markdown",
   "metadata": {
    "slideshow": {
     "slide_type": "subslide"
    }
   },
   "source": [
    "## Precision and Recall \n",
    "***\n",
    " - Now, of **all patients that actually have cancer**, what fraction did we **CORRECTLY** detect as having cancer? \n",
    " \n",
    " - This is nothing but the recall! \n",
    " \n",
    " - Here \n",
    "\n",
    "$$Recall = \\frac {(True +ves)} {(True +ves  +  False -ves)}$$"
   ]
  },
  {
   "cell_type": "markdown",
   "metadata": {
    "slideshow": {
     "slide_type": "subslide"
    }
   },
   "source": [
    "<center><img src=../images/image99.png alt=\"precision and recall\" style=\"width: 400px;\"/></center>"
   ]
  },
  {
   "cell_type": "markdown",
   "metadata": {
    "slideshow": {
     "slide_type": "subslide"
    }
   },
   "source": [
    "## Trade - Off: Precision Vs. Recall \n",
    "***\n",
    "- This is more of a in-class activity! \n",
    "- Think about this: What happens if we get an increased value of Precision? Do you think that would lower Recall? And vice-versa? \n",
    "\n",
    "- Think of an example! And use easy numerical calculations too. You can just use a pencil and paper, no need for code! \n",
    "\n",
    "- [**Hint**: There is a trade-off!] "
   ]
  },
  {
   "cell_type": "markdown",
   "metadata": {
    "slideshow": {
     "slide_type": "subslide"
    }
   },
   "source": [
    "### F1 Score\n",
    "***\n",
    " - To deal with this Trade-off we calculate something known as the F-1 Score: F1 score is a good approach to minimize a bias towards either the Precision or the Recall\n",
    "\n",
    " $$F1 Score = \\frac {2PR} {P + R} $$"
   ]
  },
  {
   "cell_type": "markdown",
   "metadata": {
    "slideshow": {
     "slide_type": "subslide"
    }
   },
   "source": [
    "## F-1 Score \n",
    "***\n",
    "F1 Score is defined as \n",
    "\n",
    "![](../images/image41.png)<br><br>\n",
    "\n",
    "\n",
    "* tp = true positive\n",
    "* tn = true negative\n",
    "* fp = false positive\n",
    "* fn = false negative"
   ]
  },
  {
   "cell_type": "markdown",
   "metadata": {
    "slideshow": {
     "slide_type": "subslide"
    }
   },
   "source": [
    "## John's F1 - score \n",
    "***\n",
    "- Using this intuition, John wanted to calculate the F-1 Score to better understand the evaluation of his model\n",
    "\n",
    "- Let's see how he implemented this in Python! "
   ]
  },
  {
   "cell_type": "code",
   "execution_count": 25,
   "metadata": {
    "slideshow": {
     "slide_type": "subslide"
    }
   },
   "outputs": [
    {
     "data": {
      "text/plain": [
       "0.82638888888888895"
      ]
     },
     "execution_count": 25,
     "metadata": {},
     "output_type": "execute_result"
    }
   ],
   "source": [
    "## code for John's f-1 score\n",
    "\n",
    "from sklearn.metrics import f1_score\n",
    "f1_score(y_test,y_pred)"
   ]
  },
  {
   "cell_type": "markdown",
   "metadata": {
    "slideshow": {
     "slide_type": "subslide"
    }
   },
   "source": [
    "## Area under ROC Curve\n",
    "***\n",
    "Area under ROC Curve (or AUC for short) is a performance metric for binary classification problems.\n",
    "\n",
    "- The AUC represents a model’s ability to discriminate between positive and negative classes.\n",
    " - An area of 1.0 represents a model that made all predictions perfectly. An area of 0.5 represents a model as good as random.<br>\n",
    "**Brain Teaser**: What does area < 0.5 signify?"
   ]
  },
  {
   "cell_type": "markdown",
   "metadata": {
    "slideshow": {
     "slide_type": "subslide"
    }
   },
   "source": [
    "### Area Under ROC Curve\n",
    "***\n",
    "ROC can be broken down into sensitivity and specificity. Let's understand these concept with this video"
   ]
  },
  {
   "cell_type": "code",
   "execution_count": 4,
   "metadata": {},
   "outputs": [
    {
     "data": {
      "text/html": [
       "<iframe width=\"560\" height=\"315\" src=\"https://www.youtube.com/embed/OAl6eAyP-yo\" frameborder=\"0\" allowfullscreen></iframe>"
      ],
      "text/plain": [
       "<IPython.core.display.HTML object>"
      ]
     },
     "execution_count": 4,
     "metadata": {},
     "output_type": "execute_result"
    }
   ],
   "source": [
    "from IPython.display import HTML\n",
    "HTML('<iframe width=\"560\" height=\"315\" src=\"https://www.youtube.com/embed/OAl6eAyP-yo\" frameborder=\"0\" allowfullscreen></iframe>')\n"
   ]
  },
  {
   "cell_type": "markdown",
   "metadata": {
    "slideshow": {
     "slide_type": "subslide"
    }
   },
   "source": [
    "## John's ROC Curve\n",
    "***\n",
    "- After learning this, John wanted to plot his very own ROC curve! \n",
    "- Let's see how he went about implementing this in Python"
   ]
  },
  {
   "cell_type": "code",
   "execution_count": 28,
   "metadata": {
    "slideshow": {
     "slide_type": "subslide"
    }
   },
   "outputs": [
    {
     "data": {
      "text/plain": [
       "0.61277209546289013"
      ]
     },
     "execution_count": 28,
     "metadata": {},
     "output_type": "execute_result"
    }
   ],
   "source": [
    "\n",
    "from sklearn import metrics\n",
    "fpr, tpr, thresholds = metrics.roc_curve(y_test, y_pred, pos_label=1)\n",
    "metrics.auc(fpr, tpr)"
   ]
  },
  {
   "cell_type": "markdown",
   "metadata": {
    "slideshow": {
     "slide_type": "subslide"
    }
   },
   "source": [
    "## Logarithmic Loss\n",
    "***\n",
    "Logarithmic loss (or logloss) is a performance metric for evaluating the predictions of probabilities of membership to a given class\n",
    "\n",
    "\n",
    "Where,\n",
    "* N is the number of samples or instances,\n",
    "* M is the number of possible labels,\n",
    "* y<sub>ij</sub> is a binary indicator of whether or not label j is the correct classification for instance i,\n",
    "* p<sub>ij</sub> is the model probability of assigning label j to instance i.\n",
    "\n",
    "![](../images/image49.png)"
   ]
  },
  {
   "cell_type": "markdown",
   "metadata": {
    "slideshow": {
     "slide_type": "subslide"
    }
   },
   "source": [
    "## Logarithmic Loss\n",
    "***\n",
    "* The scalar probability between 0 and 1 can be seen as a measure of confidence for a prediction by an algorithm.<br>\n",
    "* Predictions that are correct or incorrect are rewarded or punished proportionally to the confidence of the prediction.<br>\n",
    "* logloss nearer to 0 is better, with 0 representing a perfect logloss. "
   ]
  },
  {
   "cell_type": "markdown",
   "metadata": {
    "slideshow": {
     "slide_type": "subslide"
    }
   },
   "source": [
    "## John's Log Loss\n",
    "***\n",
    " - John wanted to check this too! \n",
    " \n",
    " - Let's check how he implemented this in Python, it's fairly easy thanks to sci-kit learn! "
   ]
  },
  {
   "cell_type": "code",
   "execution_count": 29,
   "metadata": {
    "slideshow": {
     "slide_type": "subslide"
    }
   },
   "outputs": [
    {
     "data": {
      "text/plain": [
       "9.3350032498774222"
      ]
     },
     "execution_count": 29,
     "metadata": {},
     "output_type": "execute_result"
    }
   ],
   "source": [
    "from sklearn.metrics import log_loss\n",
    "log_loss(y_test,y_pred)"
   ]
  },
  {
   "cell_type": "markdown",
   "metadata": {
    "collapsed": true,
    "slideshow": {
     "slide_type": "subslide"
    }
   },
   "source": [
    "## Help John find out his status on loan approval\n",
    "***\n",
    "Now that you are equipped with the new weapon to handle classification problems and ways to evaluate the performances, help John find out if he would get a loan or not!"
   ]
  },
  {
   "cell_type": "markdown",
   "metadata": {
    "slideshow": {
     "slide_type": "slide"
    }
   },
   "source": [
    "<img src=\"../images/Recap.png\" alt=\"Recap\" style=\"width: 100px;float:left; margin-right:15px\"/>\n",
    "<br />\n",
    "# In-session Recap Time\n",
    "***\n",
    "* Decision Boundary\n",
    "* Hyperparameter Tuning\n",
    "* Cost Function\n",
    "* Gradient Descent\n",
    "* Evaluating Matrix\n",
    "* Precision and Recall\n",
    "* Logarithmic Loss"
   ]
  },
  {
   "cell_type": "markdown",
   "metadata": {
    "slideshow": {
     "slide_type": "slide"
    }
   },
   "source": [
    "# Thank You\n",
    "***\n",
    "### Next Session: Logistics Regression\n",
    "For more queries - Reach out to academics@greyatom.com "
   ]
  }
 ],
 "metadata": {
  "anaconda-cloud": {},
  "celltoolbar": "Slideshow",
  "kernelspec": {
   "display_name": "Python 2",
   "language": "python",
   "name": "python2"
  },
  "language_info": {
   "codemirror_mode": {
    "name": "ipython",
    "version": 2
   },
   "file_extension": ".py",
   "mimetype": "text/x-python",
   "name": "python",
   "nbconvert_exporter": "python",
   "pygments_lexer": "ipython2",
   "version": "2.7.13"
  },
  "widgets": {
   "state": {},
   "version": "1.1.2"
  }
 },
 "nbformat": 4,
 "nbformat_minor": 2
}
